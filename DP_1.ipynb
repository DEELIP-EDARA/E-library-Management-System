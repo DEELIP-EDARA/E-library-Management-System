{
  "nbformat": 4,
  "nbformat_minor": 0,
  "metadata": {
    "colab": {
      "provenance": [],
      "authorship_tag": "ABX9TyPEg2rEqPntdfLH9oLO5A52",
      "include_colab_link": true
    },
    "kernelspec": {
      "name": "python3",
      "display_name": "Python 3"
    },
    "language_info": {
      "name": "python"
    }
  },
  "cells": [
    {
      "cell_type": "markdown",
      "metadata": {
        "id": "view-in-github",
        "colab_type": "text"
      },
      "source": [
        "<a href=\"https://colab.research.google.com/github/DEELIP-EDARA/E-library-Management-System/blob/main/DP_1.ipynb\" target=\"_parent\"><img src=\"https://colab.research.google.com/assets/colab-badge.svg\" alt=\"Open In Colab\"/></a>"
      ]
    },
    {
      "cell_type": "code",
      "execution_count": null,
      "metadata": {
        "id": "Q0vxaM2ESJFX"
      },
      "outputs": [],
      "source": []
    },
    {
      "cell_type": "code",
      "source": [
        "import numpy as np"
      ],
      "metadata": {
        "id": "IQ4pSC-EUzkl"
      },
      "execution_count": null,
      "outputs": []
    },
    {
      "cell_type": "code",
      "source": [
        "import pandas as pd\n"
      ],
      "metadata": {
        "id": "ZukYL4OmU3N9"
      },
      "execution_count": null,
      "outputs": []
    },
    {
      "cell_type": "code",
      "source": [],
      "metadata": {
        "id": "TDmNpY6XU9a1"
      },
      "execution_count": null,
      "outputs": []
    },
    {
      "cell_type": "code",
      "source": [
        "input = np.array([[0,0], [0,1], [1,0], [1,1] ])\n",
        "weights = np.array([1,1])\n",
        "ab = input @ weights\n",
        "def threshold(dot, T) -> int:\n",
        "   if dot >= T:\n",
        "        return 1\n",
        "   else:\n",
        "        return 0\n",
        "# AND GATE\n",
        "T = 2\n",
        "for i in range(0,4):\n",
        "  activation = threshold(ab[i], T)\n",
        "  print(f'{activation}')\n",
        "\n",
        "\n",
        "\n",
        "\n"
      ],
      "metadata": {
        "colab": {
          "base_uri": "https://localhost:8080/"
        },
        "id": "onHIFpZxVb1O",
        "outputId": "5de8d9a4-10e8-4770-e57a-5faeb8df290d"
      },
      "execution_count": null,
      "outputs": [
        {
          "output_type": "stream",
          "name": "stdout",
          "text": [
            "0\n",
            "0\n",
            "0\n",
            "1\n"
          ]
        }
      ]
    },
    {
      "cell_type": "code",
      "source": [
        "#OR GATE\n",
        "T=1\n",
        "for i in range(0,4):\n",
        "  activation = threshold(ab[i],T)\n",
        "  print(f'{activation}')\n"
      ],
      "metadata": {
        "colab": {
          "base_uri": "https://localhost:8080/"
        },
        "id": "-MKRQdQrXs6U",
        "outputId": "97fad9d6-b85f-4dd0-f6a0-0a7c307921fa"
      },
      "execution_count": null,
      "outputs": [
        {
          "output_type": "stream",
          "name": "stdout",
          "text": [
            "0\n",
            "1\n",
            "1\n",
            "1\n"
          ]
        }
      ]
    },
    {
      "cell_type": "code",
      "source": [
        "#NOR GATE\n",
        "weights = np.array([-1,-1])\n",
        "ab = input @ weights\n",
        "T=0\n",
        "for i in range(0,4):\n",
        "  activation = threshold(ab[i],T)\n",
        "  print(f'{activation}')"
      ],
      "metadata": {
        "colab": {
          "base_uri": "https://localhost:8080/"
        },
        "id": "17fJ04HXcLjm",
        "outputId": "b550c043-f8bb-44f5-fc03-549d1dc36359"
      },
      "execution_count": null,
      "outputs": [
        {
          "output_type": "stream",
          "name": "stdout",
          "text": [
            "1\n",
            "0\n",
            "0\n",
            "0\n"
          ]
        }
      ]
    },
    {
      "cell_type": "code",
      "source": [],
      "metadata": {
        "id": "O6DtUOSPc0Sw"
      },
      "execution_count": null,
      "outputs": []
    },
    {
      "cell_type": "code",
      "source": [
        "\n"
      ],
      "metadata": {
        "id": "f2w9bohKcNZd"
      },
      "execution_count": null,
      "outputs": []
    }
  ]
}